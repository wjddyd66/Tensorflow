{
 "cells": [
  {
   "cell_type": "markdown",
   "metadata": {},
   "source": [
    "MLP Model"
   ]
  },
  {
   "cell_type": "markdown",
   "metadata": {},
   "source": [
    "텐서플로 라이브러리를 import"
   ]
  },
  {
   "cell_type": "code",
   "execution_count": 1,
   "metadata": {},
   "outputs": [],
   "source": [
    "import tensorflow as tf"
   ]
  },
  {
   "cell_type": "markdown",
   "metadata": {},
   "source": [
    "MNIST Data를 다운로드 및 불러오기"
   ]
  },
  {
   "cell_type": "code",
   "execution_count": 3,
   "metadata": {
    "collapsed": true
   },
   "outputs": [
    {
     "name": "stdout",
     "output_type": "stream",
     "text": [
      "WARNING:tensorflow:From <ipython-input-3-754b226d6086>:2: read_data_sets (from tensorflow.contrib.learn.python.learn.datasets.mnist) is deprecated and will be removed in a future version.\n",
      "Instructions for updating:\n",
      "Please use alternatives such as official/mnist/dataset.py from tensorflow/models.\n",
      "WARNING:tensorflow:From C:\\Tensor\\envs\\tensorflow\\lib\\site-packages\\tensorflow\\contrib\\learn\\python\\learn\\datasets\\mnist.py:260: maybe_download (from tensorflow.contrib.learn.python.learn.datasets.base) is deprecated and will be removed in a future version.\n",
      "Instructions for updating:\n",
      "Please write your own downloading logic.\n",
      "WARNING:tensorflow:From C:\\Tensor\\envs\\tensorflow\\lib\\site-packages\\tensorflow\\contrib\\learn\\python\\learn\\datasets\\mnist.py:262: extract_images (from tensorflow.contrib.learn.python.learn.datasets.mnist) is deprecated and will be removed in a future version.\n",
      "Instructions for updating:\n",
      "Please use tf.data to implement this functionality.\n",
      "Extracting /tmp/data\\train-images-idx3-ubyte.gz\n",
      "WARNING:tensorflow:From C:\\Tensor\\envs\\tensorflow\\lib\\site-packages\\tensorflow\\contrib\\learn\\python\\learn\\datasets\\mnist.py:267: extract_labels (from tensorflow.contrib.learn.python.learn.datasets.mnist) is deprecated and will be removed in a future version.\n",
      "Instructions for updating:\n",
      "Please use tf.data to implement this functionality.\n",
      "Extracting /tmp/data\\train-labels-idx1-ubyte.gz\n",
      "WARNING:tensorflow:From C:\\Tensor\\envs\\tensorflow\\lib\\site-packages\\tensorflow\\contrib\\learn\\python\\learn\\datasets\\mnist.py:110: dense_to_one_hot (from tensorflow.contrib.learn.python.learn.datasets.mnist) is deprecated and will be removed in a future version.\n",
      "Instructions for updating:\n",
      "Please use tf.one_hot on tensors.\n",
      "Extracting /tmp/data\\t10k-images-idx3-ubyte.gz\n",
      "Extracting /tmp/data\\t10k-labels-idx1-ubyte.gz\n",
      "WARNING:tensorflow:From C:\\Tensor\\envs\\tensorflow\\lib\\site-packages\\tensorflow\\contrib\\learn\\python\\learn\\datasets\\mnist.py:290: DataSet.__init__ (from tensorflow.contrib.learn.python.learn.datasets.mnist) is deprecated and will be removed in a future version.\n",
      "Instructions for updating:\n",
      "Please use alternatives such as official/mnist/dataset.py from tensorflow/models.\n"
     ]
    }
   ],
   "source": [
    "from tensorflow.examples.tutorials.mnist import input_data\n",
    "mnist = input_data.read_data_sets('/tmp/data',one_hot=True)"
   ]
  },
  {
   "cell_type": "markdown",
   "metadata": {},
   "source": [
    "학습을 위한 Parameter 선언\n",
    "- num_epochs: 학습횟수\n",
    "- batch_size: 배치개수\n",
    "- display_step: 손실 함수 출력 주기\n",
    "- input_size: 28 * 28 =784"
   ]
  },
  {
   "cell_type": "code",
   "execution_count": 4,
   "metadata": {},
   "outputs": [],
   "source": [
    "learning_rate = 0.001\n",
    "num_epochs = 30\n",
    "batch_size = 256\n",
    "display_step = 1\n",
    "input_size = 784\n",
    "hidden1_size = 256\n",
    "hidden2_size = 256\n",
    "output_size = 10"
   ]
  },
  {
   "cell_type": "markdown",
   "metadata": {},
   "source": [
    "입력값과 출력값을 받기 위해 Placeholder 선언"
   ]
  },
  {
   "cell_type": "code",
   "execution_count": 5,
   "metadata": {},
   "outputs": [],
   "source": [
    "x = tf.placeholder(tf.float32, shape = [None,input_size])\n",
    "y = tf.placeholder(tf.float32, shape = [None, output_size])"
   ]
  },
  {
   "cell_type": "markdown",
   "metadata": {},
   "source": [
    "ANN Model 정의\n",
    "- Activation Function: ReLu"
   ]
  },
  {
   "cell_type": "code",
   "execution_count": 6,
   "metadata": {},
   "outputs": [],
   "source": [
    "def build_ANN(x):\n",
    "    #Layer1\n",
    "    W1 = tf.Variable(tf.random_normal(shape = [input_size, hidden1_size]))\n",
    "    b1 = tf.Variable(tf.random_normal(shape = [hidden1_size]))\n",
    "    H1_output = tf.nn.relu(tf.matmul(x,W1)+b1)\n",
    "    #Layer 2\n",
    "    W2 = tf.Variable(tf.random_normal(shape = [hidden1_size, hidden2_size]))\n",
    "    b2 = tf.Variable(tf.random_normal(shape = [hidden2_size]))\n",
    "    H2_output = tf.nn.relu(tf.matmul(H1_output,W2)+b2)\n",
    "    #Layer 3\n",
    "    W_output = tf.Variable(tf.random_normal(shape = [hidden2_size, output_size]))\n",
    "    b_output = tf.Variable(tf.random_normal(shape = [output_size]))\n",
    "    logits = tf.matmul(H2_output,W_output)+b_output\n",
    "    \n",
    "    return logits"
   ]
  },
  {
   "cell_type": "markdown",
   "metadata": {},
   "source": [
    "실제 ANN Model 선언"
   ]
  },
  {
   "cell_type": "code",
   "execution_count": 7,
   "metadata": {},
   "outputs": [
    {
     "name": "stdout",
     "output_type": "stream",
     "text": [
      "WARNING:tensorflow:From C:\\Tensor\\envs\\tensorflow\\lib\\site-packages\\tensorflow\\python\\framework\\op_def_library.py:263: colocate_with (from tensorflow.python.framework.ops) is deprecated and will be removed in a future version.\n",
      "Instructions for updating:\n",
      "Colocations handled automatically by placer.\n"
     ]
    }
   ],
   "source": [
    "predicted_value = build_ANN(x)"
   ]
  },
  {
   "cell_type": "markdown",
   "metadata": {},
   "source": [
    "- Loss Function: Softmax with Loss\n",
    "- Optimazer: Adam"
   ]
  },
  {
   "cell_type": "code",
   "execution_count": 8,
   "metadata": {},
   "outputs": [
    {
     "name": "stdout",
     "output_type": "stream",
     "text": [
      "WARNING:tensorflow:From <ipython-input-8-de0113e16c6e>:1: softmax_cross_entropy_with_logits (from tensorflow.python.ops.nn_ops) is deprecated and will be removed in a future version.\n",
      "Instructions for updating:\n",
      "\n",
      "Future major versions of TensorFlow will allow gradients to flow\n",
      "into the labels input on backprop by default.\n",
      "\n",
      "See `tf.nn.softmax_cross_entropy_with_logits_v2`.\n",
      "\n"
     ]
    }
   ],
   "source": [
    "loss = tf.reduce_mean(tf.nn.softmax_cross_entropy_with_logits(logits=predicted_value, labels=y))\n",
    "train_step = tf.train.AdamOptimizer(learning_rate=learning_rate).minimize(loss)"
   ]
  },
  {
   "cell_type": "markdown",
   "metadata": {},
   "source": [
    "세션 생성 및 실행\n",
    "Model 성능 Test"
   ]
  },
  {
   "cell_type": "code",
   "execution_count": 12,
   "metadata": {},
   "outputs": [
    {
     "name": "stdout",
     "output_type": "stream",
     "text": [
      "반복(Epoch): 1, 손실함수(Loss): 289.31592089216275\n",
      "반복(Epoch): 2, 손실함수(Loss): 66.723739820106\n",
      "반복(Epoch): 3, 손실함수(Loss): 43.624182897193386\n",
      "반복(Epoch): 4, 손실함수(Loss): 32.35598173319737\n",
      "반복(Epoch): 5, 손실함수(Loss): 25.1575914409673\n",
      "반복(Epoch): 6, 손실함수(Loss): 20.47701359909272\n",
      "반복(Epoch): 7, 손실함수(Loss): 16.65446473839126\n",
      "반복(Epoch): 8, 손실함수(Loss): 13.627227057920443\n",
      "반복(Epoch): 9, 손실함수(Loss): 10.936623459664462\n",
      "반복(Epoch): 10, 손실함수(Loss): 9.640817961960197\n",
      "반복(Epoch): 11, 손실함수(Loss): 8.092297928912616\n",
      "반복(Epoch): 12, 손실함수(Loss): 6.524271475586379\n",
      "반복(Epoch): 13, 손실함수(Loss): 5.506222063692936\n",
      "반복(Epoch): 14, 손실함수(Loss): 4.420506887625311\n",
      "반복(Epoch): 15, 손실함수(Loss): 3.7191638576909125\n",
      "반복(Epoch): 16, 손실함수(Loss): 3.1063698513333255\n",
      "반복(Epoch): 17, 손실함수(Loss): 2.5690831333869446\n",
      "반복(Epoch): 18, 손실함수(Loss): 2.0685028335227518\n",
      "반복(Epoch): 19, 손실함수(Loss): 1.7303475626411577\n",
      "반복(Epoch): 20, 손실함수(Loss): 1.3335878377905916\n",
      "반복(Epoch): 21, 손실함수(Loss): 1.1647506528523546\n",
      "반복(Epoch): 22, 손실함수(Loss): 0.83789161291724\n",
      "반복(Epoch): 23, 손실함수(Loss): 0.6361927191624157\n",
      "반복(Epoch): 24, 손실함수(Loss): 0.6072228503728225\n",
      "반복(Epoch): 25, 손실함수(Loss): 0.42546520025722645\n",
      "반복(Epoch): 26, 손실함수(Loss): 0.3990266389692753\n",
      "반복(Epoch): 27, 손실함수(Loss): 0.3039966435727189\n",
      "반복(Epoch): 28, 손실함수(Loss): 0.2636221467217358\n",
      "반복(Epoch): 29, 손실함수(Loss): 0.2895586178715198\n",
      "반복(Epoch): 30, 손실함수(Loss): 0.2183748629522514\n",
      "정확도(Accuract): 0.945500\n"
     ]
    }
   ],
   "source": [
    "with tf.Session() as sess:\n",
    "    #변수들에 초기값을 할당\n",
    "    sess.run(tf.global_variables_initializer())\n",
    "    \n",
    "    #지정된 횟수만큼 최적화 수행\n",
    "    for epoch in range(num_epochs):\n",
    "        average_loss = 0\n",
    "        total_batch = int(mnist.train.num_examples/batch_size)\n",
    "        #모든 배치들에 대해서 최적화를 수행\n",
    "        for i in range(total_batch):\n",
    "            batch_x, batch_y = mnist.train.next_batch(batch_size)\n",
    "            _, current_loss = sess.run([train_step,loss],feed_dict = {x: batch_x, y: batch_y})\n",
    "            #평균 손실 측척\n",
    "            average_loss += current_loss/total_batch\n",
    "            #지정된 epoch 마다 학습결과 출력\n",
    "        if epoch % display_step == 0:\n",
    "            print('반복(Epoch): {}, 손실함수(Loss): {}'.format(epoch+1, average_loss))\n",
    "    #Model 성능 Test\n",
    "    correct_prediction = tf.equal(tf.arg_max(predicted_value,1),tf.argmax(y,1))\n",
    "    accuracy = tf.reduce_mean(tf.cast(correct_prediction,'float'))\n",
    "    print('정확도(Accuract): %f'%(accuracy.eval(feed_dict={x:mnist.test.images, y: mnist.test.labels})))"
   ]
  }
 ],
 "metadata": {
  "kernelspec": {
   "display_name": "Python 3",
   "language": "python",
   "name": "python3"
  },
  "language_info": {
   "codemirror_mode": {
    "name": "ipython",
    "version": 3
   },
   "file_extension": ".py",
   "mimetype": "text/x-python",
   "name": "python",
   "nbconvert_exporter": "python",
   "pygments_lexer": "ipython3",
   "version": "3.7.3"
  }
 },
 "nbformat": 4,
 "nbformat_minor": 2
}
