{
 "cells": [
  {
   "cell_type": "markdown",
   "metadata": {},
   "source": [
    "Autoencoder는 대표적인 비지도 학습을 위한 인공신경망 구조 중 하나이다\n",
    "\n",
    "데이터의 숨겨진 구조를 발견하는 것이 목표인 학습 방법\n",
    "\n",
    "**출력층의 노드 개수와 입력층의 노드 개수가 동일**"
   ]
  },
  {
   "cell_type": "markdown",
   "metadata": {},
   "source": [
    "AutoEncoder의 핵심은 재구축된 출력층의 출력값이 아니라, 은닉층의 출력값이다.  \n",
    "은닉층의 노드 개수가 입력층과 출력층의 노드 개수보다 적다.  \n",
    "은닉층은 더 작은 표현력으로 원본 데이터의 모든 특징들을 학습해야 한다.  \n",
    "**결과적으로 은닉층의 출력밧은 원본 데이터에서 불필요한 특징들을 제거한 압축된 특징들을 학습하게 된다.**  "
   ]
  },
  {
   "cell_type": "markdown",
   "metadata": {},
   "source": [
    "Trainning과정에서 불필요한 특징들을 자동적으로 제거하고 필요한 특징들만 남아있다."
   ]
  },
  {
   "cell_type": "markdown",
   "metadata": {},
   "source": [
    "## Autoencoder를 이용한 MNIST 데이터 재구축"
   ]
  },
  {
   "cell_type": "markdown",
   "metadata": {},
   "source": [
    "필요한 라이브러리를 임포트"
   ]
  },
  {
   "cell_type": "code",
   "execution_count": 1,
   "metadata": {},
   "outputs": [],
   "source": [
    "import tensorflow as tf\n",
    "import numpy as np\n",
    "import matplotlib.pyplot as plt"
   ]
  },
  {
   "cell_type": "markdown",
   "metadata": {},
   "source": [
    "학습에 사용할 MNIST 데이터를 다운받고 불러온다."
   ]
  },
  {
   "cell_type": "code",
   "execution_count": 2,
   "metadata": {},
   "outputs": [
    {
     "name": "stdout",
     "output_type": "stream",
     "text": [
      "WARNING:tensorflow:From <ipython-input-2-c3d55fec490c>:2: read_data_sets (from tensorflow.contrib.learn.python.learn.datasets.mnist) is deprecated and will be removed in a future version.\n",
      "Instructions for updating:\n",
      "Please use alternatives such as official/mnist/dataset.py from tensorflow/models.\n",
      "WARNING:tensorflow:From C:\\Tensor\\envs\\tensorflow\\lib\\site-packages\\tensorflow\\contrib\\learn\\python\\learn\\datasets\\mnist.py:260: maybe_download (from tensorflow.contrib.learn.python.learn.datasets.base) is deprecated and will be removed in a future version.\n",
      "Instructions for updating:\n",
      "Please write your own downloading logic.\n",
      "WARNING:tensorflow:From C:\\Tensor\\envs\\tensorflow\\lib\\site-packages\\tensorflow\\contrib\\learn\\python\\learn\\datasets\\mnist.py:262: extract_images (from tensorflow.contrib.learn.python.learn.datasets.mnist) is deprecated and will be removed in a future version.\n",
      "Instructions for updating:\n",
      "Please use tf.data to implement this functionality.\n",
      "Extracting /tmp/data/train-images-idx3-ubyte.gz\n",
      "WARNING:tensorflow:From C:\\Tensor\\envs\\tensorflow\\lib\\site-packages\\tensorflow\\contrib\\learn\\python\\learn\\datasets\\mnist.py:267: extract_labels (from tensorflow.contrib.learn.python.learn.datasets.mnist) is deprecated and will be removed in a future version.\n",
      "Instructions for updating:\n",
      "Please use tf.data to implement this functionality.\n",
      "Extracting /tmp/data/train-labels-idx1-ubyte.gz\n",
      "WARNING:tensorflow:From C:\\Tensor\\envs\\tensorflow\\lib\\site-packages\\tensorflow\\contrib\\learn\\python\\learn\\datasets\\mnist.py:110: dense_to_one_hot (from tensorflow.contrib.learn.python.learn.datasets.mnist) is deprecated and will be removed in a future version.\n",
      "Instructions for updating:\n",
      "Please use tf.one_hot on tensors.\n",
      "Extracting /tmp/data/t10k-images-idx3-ubyte.gz\n",
      "Extracting /tmp/data/t10k-labels-idx1-ubyte.gz\n",
      "WARNING:tensorflow:From C:\\Tensor\\envs\\tensorflow\\lib\\site-packages\\tensorflow\\contrib\\learn\\python\\learn\\datasets\\mnist.py:290: DataSet.__init__ (from tensorflow.contrib.learn.python.learn.datasets.mnist) is deprecated and will be removed in a future version.\n",
      "Instructions for updating:\n",
      "Please use alternatives such as official/mnist/dataset.py from tensorflow/models.\n"
     ]
    }
   ],
   "source": [
    "from tensorflow.examples.tutorials.mnist import input_data\n",
    "mnist = input_data.read_data_sets(\"/tmp/data/\", one_hot=True)"
   ]
  },
  {
   "cell_type": "markdown",
   "metadata": {},
   "source": [
    "학습에 필요한 Parameter정의\n",
    "- training_epochs: 반복 횟수\n",
    "- batch_size = 배치 개수\n",
    "- display_step: 손실 함수 출력 주기\n",
    "- examples_to_show: 보여죽 MNIST Reconstruction 이미지 개수"
   ]
  },
  {
   "cell_type": "code",
   "execution_count": 3,
   "metadata": {},
   "outputs": [],
   "source": [
    "learning_rate = 0.02\n",
    "training_epochs = 50\n",
    "batch_size = 256\n",
    "display_step = 5\n",
    "examples_to_show = 10\n",
    "input_size = 784\n",
    "hidden1_size = 256\n",
    "hidden2_size = 128"
   ]
  },
  {
   "cell_type": "markdown",
   "metadata": {},
   "source": [
    "입력값을 받기 위한 플레이스 홀더 정의  \n",
    "비지도 학습이므로 타겟 레이블 y는 필요 없다."
   ]
  },
  {
   "cell_type": "code",
   "execution_count": 4,
   "metadata": {},
   "outputs": [],
   "source": [
    "x = tf.placeholder(tf.float32, shape = [None, input_size])"
   ]
  },
  {
   "cell_type": "markdown",
   "metadata": {},
   "source": [
    "Auto Encoder Model 생성  \n",
    "**input      -> Encoder                      -> Decoder      -> output**  \n",
    "**input: 784 -> hidden1: 256 -> hidden2: 128 -> hidden3: 256 -> output: 784**"
   ]
  },
  {
   "cell_type": "code",
   "execution_count": 5,
   "metadata": {},
   "outputs": [],
   "source": [
    "def build_autoencoder(x):\n",
    "    #Encoding: 784 -> 256 -> 128\n",
    "    W1 = tf.Variable(tf.random_normal(shape = [input_size, hidden1_size]))\n",
    "    b1 = tf.Variable(tf.random_normal(shape =[hidden1_size]))\n",
    "    H1_output = tf.nn.sigmoid(tf.matmul(x,W1)+b1)\n",
    "    \n",
    "    W2 = tf.Variable(tf.random_normal(shape = [hidden1_size,hidden2_size]))\n",
    "    b2 = tf.Variable(tf.random_normal(shape =[hidden2_size]))\n",
    "    H2_output = tf.nn.sigmoid(tf.matmul(H1_output,W2)+b2)\n",
    "    \n",
    "    #Decoding: 128 -> 256 -> 784\n",
    "    W3 = tf.Variable(tf.random_normal(shape = [hidden2_size, hidden1_size]))\n",
    "    b3 = tf.Variable(tf.random_normal(shape =[hidden1_size]))\n",
    "    H3_output = tf.nn.sigmoid(tf.matmul(H2_output,W3)+b3)\n",
    "    \n",
    "    W4 = tf.Variable(tf.random_normal(shape = [hidden1_size,input_size]))\n",
    "    b4 = tf.Variable(tf.random_normal(shape =[input_size]))\n",
    "    reconstructed_x = tf.nn.sigmoid(tf.matmul(H3_output,W4)+b4)\n",
    "    \n",
    "    return reconstructed_x"
   ]
  },
  {
   "cell_type": "markdown",
   "metadata": {},
   "source": [
    "AutoEncoder 그래프 구조를 생성하고    \n",
    "target Data선언(input Data와 같다.)  "
   ]
  },
  {
   "cell_type": "code",
   "execution_count": 6,
   "metadata": {},
   "outputs": [
    {
     "name": "stdout",
     "output_type": "stream",
     "text": [
      "WARNING:tensorflow:From C:\\Tensor\\envs\\tensorflow\\lib\\site-packages\\tensorflow\\python\\framework\\op_def_library.py:263: colocate_with (from tensorflow.python.framework.ops) is deprecated and will be removed in a future version.\n",
      "Instructions for updating:\n",
      "Colocations handled automatically by placer.\n"
     ]
    }
   ],
   "source": [
    "y_pred = build_autoencoder(x)\n",
    "y_true = x"
   ]
  },
  {
   "cell_type": "markdown",
   "metadata": {},
   "source": [
    "- LossFunction: MSE\n",
    "- Optimizer: RMSProp"
   ]
  },
  {
   "cell_type": "code",
   "execution_count": 7,
   "metadata": {},
   "outputs": [],
   "source": [
    "loss = tf.reduce_mean(tf.pow(y_true - y_pred,2))\n",
    "train_step = tf.train.RMSPropOptimizer(learning_rate).minimize(loss)"
   ]
  },
  {
   "cell_type": "markdown",
   "metadata": {},
   "source": [
    "Session을 열고 그래프 실행"
   ]
  },
  {
   "cell_type": "code",
   "execution_count": 8,
   "metadata": {
    "scrolled": false
   },
   "outputs": [
    {
     "name": "stdout",
     "output_type": "stream",
     "text": [
      "반복(Epoch): 0, 손실함수(Loss): 0.181670\n",
      "반복(Epoch): 5, 손실함수(Loss): 0.093784\n",
      "반복(Epoch): 10, 손실함수(Loss): 0.076891\n",
      "반복(Epoch): 15, 손실함수(Loss): 0.067799\n",
      "반복(Epoch): 20, 손실함수(Loss): 0.062954\n",
      "반복(Epoch): 25, 손실함수(Loss): 0.057217\n",
      "반복(Epoch): 30, 손실함수(Loss): 0.049529\n",
      "반복(Epoch): 35, 손실함수(Loss): 0.047211\n",
      "반복(Epoch): 40, 손실함수(Loss): 0.045349\n",
      "반복(Epoch): 45, 손실함수(Loss): 0.044621\n",
      "Trainning Finish\n"
     ]
    },
    {
     "name": "stderr",
     "output_type": "stream",
     "text": [
      "C:\\Tensor\\envs\\tensorflow\\lib\\site-packages\\ipykernel_launcher.py:26: UserWarning: Matplotlib is currently using module://ipykernel.pylab.backend_inline, which is a non-GUI backend, so cannot show the figure.\n"
     ]
    },
    {
     "data": {
      "image/png": "[encoded data removed]",
      "text/plain": [
       "<Figure size 720x144 with 20 Axes>"
      ]
     },
     "metadata": {
      "needs_background": "light"
     },
     "output_type": "display_data"
    }
   ],
   "source": [
    "with tf.Session() as sess:\n",
    "    #변수 초기화\n",
    "    sess.run(tf.global_variables_initializer())\n",
    "    \n",
    "    #지정한 횟수만큼 최적화 수행\n",
    "    for epoch in range(training_epochs):\n",
    "        total_batch = int(mnist.train.num_examples/batch_size)\n",
    "        \n",
    "        for i in range(total_batch):\n",
    "            batch_xs, batch_ys = mnist.train.next_batch(batch_size)\n",
    "            _,current_loss = sess.run([train_step, loss],feed_dict={x:batch_xs})\n",
    "            \n",
    "            #지정한 epoch마다 학습결과 출력\n",
    "        if epoch % display_step == 0:\n",
    "            print('반복(Epoch): %d, 손실함수(Loss): %f' % (epoch, current_loss))\n",
    "    print('Trainning Finish')\n",
    "    \n",
    "    # 테스트 데이터로 Reconstruction을 수행합니다.\n",
    "    reconstructed_result = sess.run(y_pred, feed_dict={x: mnist.test.images[:examples_to_show]})\n",
    "    # 원본 MNIST 데이터와 Reconstruction 결과를 비교합니다.\n",
    "    f, a = plt.subplots(2, 10, figsize=(10, 2))\n",
    "    for i in range(examples_to_show):\n",
    "        a[0][i].imshow(np.reshape(mnist.test.images[i], (28, 28)))\n",
    "        a[1][i].imshow(np.reshape(reconstructed_result[i], (28, 28)))\n",
    "    f.savefig('reconstructed_mnist_image.png')  # reconstruction 결과를 png로 저장합니다.\n",
    "    f.show()"
   ]
  },
  {
   "cell_type": "markdown",
   "metadata": {},
   "source": [
    "AutoEncoder가 원본 데이터를 재현해내지 못했기 떄문에 재구축된 MNIST이미지에 약간의 노이즈가 포함되어 있다."
   ]
  },
  {
   "cell_type": "code",
   "execution_count": null,
   "metadata": {},
   "outputs": [],
   "source": [
    "## Autoencoder + Softmax Classifier를 이용한 MNIST 데이터 재구축"
   ]
  },
  {
   "cell_type": "markdown",
   "metadata": {},
   "source": [
    "파인 튜닝 = 전이학습  \n",
    "파라미터를 처음부터 조절하는 것이 아닌 학습된 파라미터를 가져와서 그로부터 다시 다른 특징을 잘 분류하도록 튜닝하는 학습방법이다.  \n",
    "\n",
    "위의 결과에서 Decoder를 거치는 것이 아니라 Encoder의 특징을 Softmax로서 Classifier를 하여 좀 더 분류를 잘 할수 있게 설계하는 것이 목표이다.  \n",
    "\n",
    "Softmax분류를 처음부터 Parameter를 Trainning하는 것이 아니라 어느 정도 학습된 AutoEncoder의 출력값으로서 사용하는 것을 목표로 한다.  \n",
    "\n",
    "**AutoEncoder의 출력 => (AutoEncoder의 Parameter를 활용한)SoftMax를 활용한 Classify**"
   ]
  },
  {
   "cell_type": "markdown",
   "metadata": {},
   "source": [
    "위에서 정의한 라이브러리와 데이터 그대로 사용  \n",
    "학습에 필요한 파라미터 선언"
   ]
  },
  {
   "cell_type": "code",
   "execution_count": 9,
   "metadata": {},
   "outputs": [],
   "source": [
    "learning_rate_RMSProp = 0.02\n",
    "learning_rate_GradientDescent = 0.5\n",
    "num_epochs = 100\n",
    "batch_size = 256\n",
    "display_step = 5\n",
    "input_size = 784\n",
    "hidden1_size = 128\n",
    "hidden2_size = 64"
   ]
  },
  {
   "cell_type": "markdown",
   "metadata": {},
   "source": [
    "인풋 데이터와 타겟 데이터를 받을 플레이스홀더를 정의"
   ]
  },
  {
   "cell_type": "code",
   "execution_count": 10,
   "metadata": {},
   "outputs": [],
   "source": [
    "x = tf.placeholder(tf.float32, shape=[None, input_size])\n",
    "y = tf.placeholder(tf.float32, shape = [None, 10])"
   ]
  },
  {
   "cell_type": "markdown",
   "metadata": {},
   "source": [
    "Model 선언\n",
    "- AutoEncoder: 784 -> 128 -> 64(압축된 특징)\n",
    "- SoftmaxClassifier: 64(압축된 특징) -> 10(MNIST 숫자 개수)"
   ]
  },
  {
   "cell_type": "code",
   "execution_count": 11,
   "metadata": {},
   "outputs": [],
   "source": [
    "#AutoEncoder 선언\n",
    "def build_autoencoder(x):\n",
    "    #Encoding: 784 -> 128 -> 64\n",
    "    Wh_1 = tf.Variable(tf.random_normal(shape = [input_size, hidden1_size]))\n",
    "    bh_1 = tf.Variable(tf.random_normal(shape =[hidden1_size]))\n",
    "    H1_output = tf.nn.sigmoid(tf.matmul(x,Wh_1)+bh_1)\n",
    "    \n",
    "    Wh_2 = tf.Variable(tf.random_normal(shape = [hidden1_size,hidden2_size]))\n",
    "    bh_2 = tf.Variable(tf.random_normal(shape =[hidden2_size]))\n",
    "    H2_output = tf.nn.sigmoid(tf.matmul(H1_output,Wh_2)+bh_2)\n",
    "    \n",
    "    #Decoding: 64 -> 128 -> 784\n",
    "    Wh_3 = tf.Variable(tf.random_normal(shape = [hidden2_size, hidden1_size]))\n",
    "    bh_3 = tf.Variable(tf.random_normal(shape =[hidden1_size]))\n",
    "    H3_output = tf.nn.sigmoid(tf.matmul(H2_output,Wh_3)+bh_3)\n",
    "    \n",
    "    Wo = tf.Variable(tf.random_normal(shape = [hidden1_size,input_size]))\n",
    "    bo = tf.Variable(tf.random_normal(shape =[input_size]))\n",
    "    X_reconstructed = tf.nn.sigmoid(tf.matmul(H3_output,Wo)+bo)\n",
    "    \n",
    "    return X_reconstructed, H2_output\n",
    "    \n",
    "#Softmax Classifier 선언\n",
    "def build_softmax_classifier(x):\n",
    "    W_softmax = tf.Variable(tf.zeros([hidden2_size,10]))\n",
    "    b_softmax = tf.Variable(tf.zeros([10]))\n",
    "    y_pred = tf.nn.softmax(tf.matmul(x, W_softmax)+b_softmax)\n",
    "    \n",
    "    return y_pred"
   ]
  },
  {
   "cell_type": "markdown",
   "metadata": {},
   "source": [
    "AutoEncoder + Softmax Classifier 를 통하여 실제 Model 생성"
   ]
  },
  {
   "cell_type": "code",
   "execution_count": 12,
   "metadata": {},
   "outputs": [],
   "source": [
    "#AutoEncoder를 통한 결과 출력\n",
    "y_pred, extracted_features = build_autoencoder(x)\n",
    "y_true = x\n",
    "#AutoEncoder의 출력을 활용한 Softmax Classifier\n",
    "y_pred_softmax = build_softmax_classifier(extracted_features)"
   ]
  },
  {
   "cell_type": "markdown",
   "metadata": {},
   "source": [
    "- Loss Function: MSE, CrossEntropy\n",
    "- Optimizer: RMSProp, GradientDescent"
   ]
  },
  {
   "cell_type": "code",
   "execution_count": 13,
   "metadata": {},
   "outputs": [
    {
     "name": "stdout",
     "output_type": "stream",
     "text": [
      "WARNING:tensorflow:From C:\\Tensor\\envs\\tensorflow\\lib\\site-packages\\tensorflow\\python\\ops\\math_ops.py:3066: to_int32 (from tensorflow.python.ops.math_ops) is deprecated and will be removed in a future version.\n",
      "Instructions for updating:\n",
      "Use tf.cast instead.\n"
     ]
    }
   ],
   "source": [
    "# Pre-Training: MNIST 데이터 재구축을 목적으로 하는 손실함수와 옵티마이저를 정의\n",
    "pretraining_loss = tf.reduce_mean(tf.pow(y_true - y_pred,2))\n",
    "pretraining_train_step = tf.train.RMSPropOptimizer(learning_rate_RMSProp).minimize(pretraining_loss)\n",
    "\n",
    "#Fine-Tuning: MNIST 데이터 분류를 목적으로 하는 손실 함수와 옵티마이저를 정의\n",
    "finetuning_loss = tf.reduce_mean(-tf.reduce_sum(y*tf.log(y_pred_softmax), reduction_indices=[1]))\n",
    "finetuning_train_step = tf.train.GradientDescentOptimizer(learning_rate_GradientDescent).minimize(finetuning_loss)"
   ]
  },
  {
   "cell_type": "markdown",
   "metadata": {},
   "source": [
    "세션을 열어서 그래프를 실행하고 학습된 모델의 정확도를 출력"
   ]
  },
  {
   "cell_type": "code",
   "execution_count": 15,
   "metadata": {},
   "outputs": [
    {
     "name": "stdout",
     "output_type": "stream",
     "text": [
      "반복(Epoch): 0, Pre-Trainning 손실 함수(pretraining_loss): 0.188704\n",
      "반복(Epoch): 5, Pre-Trainning 손실 함수(pretraining_loss): 0.072182\n",
      "반복(Epoch): 10, Pre-Trainning 손실 함수(pretraining_loss): 0.048455\n",
      "반복(Epoch): 15, Pre-Trainning 손실 함수(pretraining_loss): 0.041352\n",
      "반복(Epoch): 20, Pre-Trainning 손실 함수(pretraining_loss): 0.039895\n",
      "반복(Epoch): 25, Pre-Trainning 손실 함수(pretraining_loss): 0.034519\n",
      "반복(Epoch): 30, Pre-Trainning 손실 함수(pretraining_loss): 0.034086\n",
      "반복(Epoch): 35, Pre-Trainning 손실 함수(pretraining_loss): 0.028195\n",
      "반복(Epoch): 40, Pre-Trainning 손실 함수(pretraining_loss): 0.026524\n",
      "반복(Epoch): 45, Pre-Trainning 손실 함수(pretraining_loss): 0.027346\n",
      "반복(Epoch): 50, Pre-Trainning 손실 함수(pretraining_loss): 0.027134\n",
      "반복(Epoch): 55, Pre-Trainning 손실 함수(pretraining_loss): 0.024106\n",
      "반복(Epoch): 60, Pre-Trainning 손실 함수(pretraining_loss): 0.023491\n",
      "반복(Epoch): 65, Pre-Trainning 손실 함수(pretraining_loss): 0.022648\n",
      "반복(Epoch): 70, Pre-Trainning 손실 함수(pretraining_loss): 0.020428\n",
      "반복(Epoch): 75, Pre-Trainning 손실 함수(pretraining_loss): 0.018896\n",
      "반복(Epoch): 80, Pre-Trainning 손실 함수(pretraining_loss): 0.017022\n",
      "반복(Epoch): 85, Pre-Trainning 손실 함수(pretraining_loss): 0.017549\n",
      "반복(Epoch): 90, Pre-Trainning 손실 함수(pretraining_loss): 0.016754\n",
      "반복(Epoch): 95, Pre-Trainning 손실 함수(pretraining_loss): 0.016523\n",
      "Step1: MNIST 데이터 재구축을 위한 오토인코더 최적화 완료(Pre-Training)\n",
      "반복(Epoch): 0, Fine-Tuning 손실 함수(Fine-Tuning_loss): 0.515184\n",
      "반복(Epoch): 5, Fine-Tuning 손실 함수(Fine-Tuning_loss): 0.217392\n",
      "반복(Epoch): 10, Fine-Tuning 손실 함수(Fine-Tuning_loss): 0.192681\n",
      "반복(Epoch): 15, Fine-Tuning 손실 함수(Fine-Tuning_loss): 0.150123\n",
      "반복(Epoch): 20, Fine-Tuning 손실 함수(Fine-Tuning_loss): 0.172021\n",
      "반복(Epoch): 25, Fine-Tuning 손실 함수(Fine-Tuning_loss): 0.124628\n",
      "반복(Epoch): 30, Fine-Tuning 손실 함수(Fine-Tuning_loss): 0.123177\n",
      "반복(Epoch): 35, Fine-Tuning 손실 함수(Fine-Tuning_loss): 0.098042\n",
      "반복(Epoch): 40, Fine-Tuning 손실 함수(Fine-Tuning_loss): 0.129571\n",
      "반복(Epoch): 45, Fine-Tuning 손실 함수(Fine-Tuning_loss): 0.090144\n",
      "반복(Epoch): 50, Fine-Tuning 손실 함수(Fine-Tuning_loss): 0.093597\n",
      "반복(Epoch): 55, Fine-Tuning 손실 함수(Fine-Tuning_loss): 0.067892\n",
      "반복(Epoch): 60, Fine-Tuning 손실 함수(Fine-Tuning_loss): 0.047152\n",
      "반복(Epoch): 65, Fine-Tuning 손실 함수(Fine-Tuning_loss): 0.064873\n",
      "반복(Epoch): 70, Fine-Tuning 손실 함수(Fine-Tuning_loss): 0.067609\n",
      "반복(Epoch): 75, Fine-Tuning 손실 함수(Fine-Tuning_loss): 0.051629\n",
      "반복(Epoch): 80, Fine-Tuning 손실 함수(Fine-Tuning_loss): 0.069629\n",
      "반복(Epoch): 85, Fine-Tuning 손실 함수(Fine-Tuning_loss): 0.036319\n",
      "반복(Epoch): 90, Fine-Tuning 손실 함수(Fine-Tuning_loss): 0.033048\n",
      "반복(Epoch): 95, Fine-Tuning 손실 함수(Fine-Tuning_loss): 0.037251\n",
      "반복(Epoch): 100, Fine-Tuning 손실 함수(Fine-Tuning_loss): 0.028525\n",
      "반복(Epoch): 105, Fine-Tuning 손실 함수(Fine-Tuning_loss): 0.047198\n",
      "반복(Epoch): 110, Fine-Tuning 손실 함수(Fine-Tuning_loss): 0.056355\n",
      "반복(Epoch): 115, Fine-Tuning 손실 함수(Fine-Tuning_loss): 0.022617\n",
      "반복(Epoch): 120, Fine-Tuning 손실 함수(Fine-Tuning_loss): 0.035502\n",
      "반복(Epoch): 125, Fine-Tuning 손실 함수(Fine-Tuning_loss): 0.038232\n",
      "반복(Epoch): 130, Fine-Tuning 손실 함수(Fine-Tuning_loss): 0.020161\n",
      "반복(Epoch): 135, Fine-Tuning 손실 함수(Fine-Tuning_loss): 0.010423\n",
      "반복(Epoch): 140, Fine-Tuning 손실 함수(Fine-Tuning_loss): 0.023799\n",
      "반복(Epoch): 145, Fine-Tuning 손실 함수(Fine-Tuning_loss): 0.017229\n",
      "반복(Epoch): 150, Fine-Tuning 손실 함수(Fine-Tuning_loss): 0.021250\n",
      "반복(Epoch): 155, Fine-Tuning 손실 함수(Fine-Tuning_loss): 0.014284\n",
      "반복(Epoch): 160, Fine-Tuning 손실 함수(Fine-Tuning_loss): 0.009084\n",
      "반복(Epoch): 165, Fine-Tuning 손실 함수(Fine-Tuning_loss): 0.018019\n",
      "반복(Epoch): 170, Fine-Tuning 손실 함수(Fine-Tuning_loss): 0.009031\n",
      "반복(Epoch): 175, Fine-Tuning 손실 함수(Fine-Tuning_loss): 0.020343\n",
      "반복(Epoch): 180, Fine-Tuning 손실 함수(Fine-Tuning_loss): 0.008362\n",
      "반복(Epoch): 185, Fine-Tuning 손실 함수(Fine-Tuning_loss): 0.011292\n",
      "반복(Epoch): 190, Fine-Tuning 손실 함수(Fine-Tuning_loss): 0.012895\n",
      "반복(Epoch): 195, Fine-Tuning 손실 함수(Fine-Tuning_loss): 0.017129\n",
      "Step2: MNIST 데이터 분류를 위한 오토인코더 + Softmax 분류기 최적화 완료\n",
      "정확도(오토인코더 + Softmax 분류기): 0.961600\n"
     ]
    }
   ],
   "source": [
    "with tf.Session() as sess:\n",
    "    #변수들의 초기값을 할당\n",
    "    sess.run(tf.global_variables_initializer())\n",
    "    \n",
    "    #전체 배치 개수를 불러오기\n",
    "    total_batch = int(mnist.train.num_examples/batch_size)\n",
    "    \n",
    "    #Step1: MNIST 데이터 재구축을 위한 오토인코더 최적화(Pre-Trainning)\n",
    "    for epoch in range(num_epochs):\n",
    "        for i in range(total_batch):\n",
    "            batch_xs, batch_ys = mnist.train.next_batch(batch_size)\n",
    "            _,pretraining_loss_print = sess.run([pretraining_train_step,pretraining_loss],feed_dict={x:batch_xs})\n",
    "        if epoch % display_step ==0:\n",
    "            print('반복(Epoch): %d, Pre-Trainning 손실 함수(pretraining_loss): %f'%(epoch, pretraining_loss_print))\n",
    "    print('Step1: MNIST 데이터 재구축을 위한 오토인코더 최적화 완료(Pre-Training)')\n",
    "    \n",
    "    \n",
    "    #Step2: MNIST 데이터 분류를 위한 오토인코더 + Softmax 분류기 최적화(Fine-tunning)\n",
    "    for epoch in range(num_epochs+100):\n",
    "        #모든 배치들에 대해서 최적화를 수행\n",
    "        for i in range(total_batch):\n",
    "            batch_xs, batch_ys = mnist.train.next_batch(batch_size)\n",
    "            _,finetuning_loss_print = sess.run([finetuning_train_step,finetuning_loss],feed_dict={x:batch_xs, y:batch_ys})\n",
    "            \n",
    "            #지정된 epoch마다 학습결과를 출력\n",
    "        if epoch % display_step == 0:\n",
    "            print('반복(Epoch): %d, Fine-Tuning 손실 함수(Fine-Tuning_loss): %f'%(epoch, finetuning_loss_print))\n",
    "    print('Step2: MNIST 데이터 분류를 위한 오토인코더 + Softmax 분류기 최적화 완료')\n",
    "\n",
    "    #최종 Model에 대한 성능 평가\n",
    "    correct_prediction = tf.equal(tf.argmax(y,1), tf.argmax(y_pred_softmax,1))\n",
    "    accuracy = tf.reduce_mean(tf.cast(correct_prediction, tf.float32))\n",
    "    print('정확도(오토인코더 + Softmax 분류기): %f'%sess.run(accuracy,feed_dict={x:mnist.test.images, y:mnist.test.labels}))        "
   ]
  }
 ],
 "metadata": {
  "kernelspec": {
   "display_name": "Python 3",
   "language": "python",
   "name": "python3"
  },
  "language_info": {
   "codemirror_mode": {
    "name": "ipython",
    "version": 3
   },
   "file_extension": ".py",
   "mimetype": "text/x-python",
   "name": "python",
   "nbconvert_exporter": "python",
   "pygments_lexer": "ipython3",
   "version": "3.7.3"
  }
 },
 "nbformat": 4,
 "nbformat_minor": 2
}
